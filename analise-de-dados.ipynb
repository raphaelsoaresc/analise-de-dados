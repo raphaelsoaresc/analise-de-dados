{
 "cells": [
  {
   "cell_type": "markdown",
   "id": "f2de8a81",
   "metadata": {},
   "source": [
    "# Como analisar os dados de rentabilidade?\n",
    "\n",
    "Desafio:\n",
    "Construir um código que faça um ranking dos melhores fundos em três períodos de rentabilidade diferentes. Iremos selecionar os 10 melhores posicionados no quesito rentabilidade no curto e no longo prazo.\n",
    "\n",
    "Passo a passo:\n",
    "Passo 1 - Puxar as tabelas igual na aula 2.\n",
    "\n",
    "Passo 2 - Escolher quais períodos de rentabilidade iremos analisar.\n",
    "\n",
    "Passo 3 - Retirar os dados faltantes. Fundos que não possuem os períodos necessários, ficarão de fora.\n",
    "\n",
    "Passo 4 - Transformar as rentabilidades em números decimais, ao invés de string.\n",
    "\n",
    "Passo 5 - Juntar as tabelas, igual na aula 2.\n",
    "\n",
    "Passo 6 - Filtrar os ETFs alavancados.\n",
    "\n",
    "Passo 7 - Fazer os rankings de rentabilidade por período e soma-los.\n",
    "\n",
    "Passo 8 - Ordenar do menor ranking pro maior, encontrando os \"melhores\" ETFs."
   ]
  },
  {
   "cell_type": "markdown",
   "id": "1c84c337",
   "metadata": {},
   "source": [
    "# Passo 1: Realizar o webscraping"
   ]
  },
  {
   "cell_type": "code",
   "execution_count": 1,
   "id": "928ada86",
   "metadata": {},
   "outputs": [],
   "source": [
    "from selenium import webdriver\n",
    "from selenium.webdriver.chrome.service import Service\n",
    "from webdriver_manager.chrome import ChromeDriverManager\n",
    "import time\n",
    "import pandas as pd\n",
    "import re"
   ]
  },
  {
   "cell_type": "code",
   "execution_count": 4,
   "id": "e32d7b15",
   "metadata": {},
   "outputs": [],
   "source": [
    "driver = webdriver.Chrome(service = Service(ChromeDriverManager().install()))\n",
    "\n",
    "driver.get('https://www.etf.com/etfanalytics/etf-finder')\n",
    "\n",
    "time.sleep(5)\n",
    "\n",
    "botao_100 = driver.find_element('xpath',\n",
    "                                '/html/body/div[5]/section/div/div[3]/section/div/div/div/div/div[2]/section[2]/div[2]/section[2]/div[1]/div/div[4]/button/label/span')\n",
    "\n",
    "driver.execute_script('arguments[0].click();', botao_100)\n",
    "#botao_100.click()\n",
    "\n",
    "numero_paginas_element = driver.find_element('xpath', '//*[@id=\"totalPages\"]')\n",
    "numero_paginas_text = numero_paginas_element.text\n",
    "match = re.search(r'(\\d+)', numero_paginas_text)\n",
    "\n",
    "elemento = driver.find_element('xpath', '//*[@id=\"finderTable\"]')\n",
    "html_tabela = elemento.get_attribute('outerHTML')\n",
    "tabela = pd.read_html(str(html_tabela))[0]\n",
    "\n",
    "lista_tabela_por_pagina = []\n",
    "\n",
    "elemento = driver.find_element('xpath', '//*[@id=\"finderTable\"]')\n",
    "\n",
    "\n",
    "for pagina in range(1, numero_paginas + 1):\n",
    "    \n",
    "    html_tabela = elemento.get_attribute('outerHTML')\n",
    "    \n",
    "    tabela = pd.read_html(str(html_tabela))[0]\n",
    "    \n",
    "    lista_tabela_por_pagina.append(tabela)\n",
    "    \n",
    "    botao_avancar_pagina = driver.find_element('xpath', '//*[@id=\"nextPage\"]')\n",
    "    \n",
    "    driver.execute_script('arguments[0].click();', botao_avancar_pagina)\n",
    "    \n",
    "\n",
    "tabela_cadastro_etfs = pd.concat(lista_tabela_por_pagina)\n",
    "\n",
    "formulario_de_voltar_pagina = driver.find_element('xpath', '//*[@id=\"goToPage\"]')\n",
    "\n",
    "formulario_de_voltar_pagina.clear()\n",
    "formulario_de_voltar_pagina.send_keys('1')\n",
    "formulario_de_voltar_pagina.send_keys(u'\\ue007')\n",
    "\n",
    "botao_mudar_pra_performance = driver.find_element('xpath', '/html/body/div[5]/section/div/div[3]/section/div/div/div/div/div[2]/section[2]/div[2]/ul/li[2]/span')\n",
    "\n",
    "driver.execute_script('arguments[0].click();', botao_mudar_pra_performance)\n",
    "\n",
    "lista_tabela_por_pagina = []\n",
    "\n",
    "elemento = driver.find_element('xpath', '//*[@id=\"finderTable\"]')\n",
    "\n",
    "\n",
    "for pagina in range(1, numero_paginas + 1):\n",
    "    \n",
    "    html_tabela = elemento.get_attribute('outerHTML')\n",
    "    \n",
    "    tabela = pd.read_html(str(html_tabela))[0]\n",
    "    \n",
    "    lista_tabela_por_pagina.append(tabela)\n",
    "    \n",
    "    botao_avancar_pagina = driver.find_element('xpath', '//*[@id=\"nextPage\"]')\n",
    "    \n",
    "    driver.execute_script('arguments[0].click();', botao_avancar_pagina)\n",
    "    \n",
    "\n",
    "tabela_rentabilidade_etfs = pd.concat(lista_tabela_por_pagina)\n",
    "\n",
    "driver.quit()"
   ]
  },
  {
   "cell_type": "code",
   "execution_count": 5,
   "id": "fb9d6e83",
   "metadata": {},
   "outputs": [],
   "source": [
    "tabela_rentabilidade_etfs = tabela_rentabilidade_etfs.set_index('Ticker')\n",
    "\n",
    "tabela_cadastro_etfs = tabela_cadastro_etfs.set_index('Ticker')"
   ]
  },
  {
   "cell_type": "markdown",
   "id": "69ccd418",
   "metadata": {},
   "source": [
    "# Passo 2: Escolher quais períodos de rentabilidade iremos analisar."
   ]
  },
  {
   "cell_type": "code",
   "execution_count": 7,
   "id": "131d7339",
   "metadata": {},
   "outputs": [],
   "source": [
    "tabela_rentabilidade_etfs = tabela_rentabilidade_etfs[['1 Year', '3 Years', '5 Years']]"
   ]
  },
  {
   "cell_type": "markdown",
   "id": "62d7cc98",
   "metadata": {},
   "source": [
    "# Passo 3: Retirar os dados faltantes. Fundos que não possuem os períodos necessários, ficarão de fora."
   ]
  },
  {
   "cell_type": "code",
   "execution_count": 9,
   "id": "4eb3c97e",
   "metadata": {},
   "outputs": [],
   "source": [
    "tabela_rentabilidade_etfs = tabela_rentabilidade_etfs.replace('--', pd.NA)\n",
    "\n",
    "tabela_rentabilidade_etfs = tabela_rentabilidade_etfs.dropna()"
   ]
  }
 ],
 "metadata": {
  "kernelspec": {
   "display_name": "Python 3 (ipykernel)",
   "language": "python",
   "name": "python3"
  },
  "language_info": {
   "codemirror_mode": {
    "name": "ipython",
    "version": 3
   },
   "file_extension": ".py",
   "mimetype": "text/x-python",
   "name": "python",
   "nbconvert_exporter": "python",
   "pygments_lexer": "ipython3",
   "version": "3.9.2"
  }
 },
 "nbformat": 4,
 "nbformat_minor": 5
}
