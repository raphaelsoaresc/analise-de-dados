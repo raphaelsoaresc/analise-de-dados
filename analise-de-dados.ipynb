{
 "cells": [
  {
   "cell_type": "markdown",
   "id": "1b53ea75",
   "metadata": {},
   "source": [
    "# Como analisar os dados de rentabilidade?\n",
    "\n",
    "Desafio:\n",
    "Construir um código que faça um ranking dos melhores fundos em três períodos de rentabilidade diferentes. Iremos selecionar os 10 melhores posicionados no quesito rentabilidade no curto e no longo prazo.\n",
    "\n",
    "Passo a passo:\n",
    "Passo 1 - Puxar as tabelas igual na aula 2.\n",
    "\n",
    "Passo 2 - Escolher quais períodos de rentabilidade iremos analisar.\n",
    "\n",
    "Passo 3 - Retirar os dados faltantes. Fundos que não possuem os períodos necessários, ficarão de fora.\n",
    "\n",
    "Passo 4 - Transformar as rentabilidades em números decimais, ao invés de string.\n",
    "\n",
    "Passo 5 - Juntar as tabelas, igual na aula 2.\n",
    "\n",
    "Passo 6 - Filtrar os ETFs alavancados.\n",
    "\n",
    "Passo 7 - Fazer os rankings de rentabilidade por período e soma-los.\n",
    "\n",
    "Passo 8 - Ordenar do menor ranking pro maior, encontrando os \"melhores\" ETFs."
   ]
  },
  {
   "cell_type": "markdown",
   "id": "d98cbe8a",
   "metadata": {},
   "source": [
    "# Passo 1: Realizar o webscraping"
   ]
  },
  {
   "cell_type": "code",
   "execution_count": 1,
   "id": "cb71bb0b",
   "metadata": {},
   "outputs": [],
   "source": [
    "from selenium import webdriver\n",
    "from selenium.webdriver.chrome.service import Service\n",
    "from webdriver_manager.chrome import ChromeDriverManager\n",
    "import time\n",
    "import pandas as pd\n",
    "import re"
   ]
  },
  {
   "cell_type": "code",
   "execution_count": 4,
   "id": "62731df7",
   "metadata": {},
   "outputs": [],
   "source": [
    "driver = webdriver.Chrome(service = Service(ChromeDriverManager().install()))\n",
    "\n",
    "driver.get('https://www.etf.com/etfanalytics/etf-finder')\n",
    "\n",
    "time.sleep(5)\n",
    "\n",
    "botao_100 = driver.find_element('xpath',\n",
    "                                '/html/body/div[5]/section/div/div[3]/section/div/div/div/div/div[2]/section[2]/div[2]/section[2]/div[1]/div/div[4]/button/label/span')\n",
    "\n",
    "driver.execute_script('arguments[0].click();', botao_100)\n",
    "#botao_100.click()\n",
    "\n",
    "numero_paginas_element = driver.find_element('xpath', '//*[@id=\"totalPages\"]')\n",
    "numero_paginas_text = numero_paginas_element.text\n",
    "match = re.search(r'(\\d+)', numero_paginas_text)\n",
    "\n",
    "elemento = driver.find_element('xpath', '//*[@id=\"finderTable\"]')\n",
    "html_tabela = elemento.get_attribute('outerHTML')\n",
    "tabela = pd.read_html(str(html_tabela))[0]\n",
    "\n",
    "lista_tabela_por_pagina = []\n",
    "\n",
    "elemento = driver.find_element('xpath', '//*[@id=\"finderTable\"]')\n",
    "\n",
    "\n",
    "for pagina in range(1, numero_paginas + 1):\n",
    "    \n",
    "    html_tabela = elemento.get_attribute('outerHTML')\n",
    "    \n",
    "    tabela = pd.read_html(str(html_tabela))[0]\n",
    "    \n",
    "    lista_tabela_por_pagina.append(tabela)\n",
    "    \n",
    "    botao_avancar_pagina = driver.find_element('xpath', '//*[@id=\"nextPage\"]')\n",
    "    \n",
    "    driver.execute_script('arguments[0].click();', botao_avancar_pagina)\n",
    "    \n",
    "\n",
    "tabela_cadastro_etfs = pd.concat(lista_tabela_por_pagina)\n",
    "\n",
    "formulario_de_voltar_pagina = driver.find_element('xpath', '//*[@id=\"goToPage\"]')\n",
    "\n",
    "formulario_de_voltar_pagina.clear()\n",
    "formulario_de_voltar_pagina.send_keys('1')\n",
    "formulario_de_voltar_pagina.send_keys(u'\\ue007')\n",
    "\n",
    "botao_mudar_pra_performance = driver.find_element('xpath', '/html/body/div[5]/section/div/div[3]/section/div/div/div/div/div[2]/section[2]/div[2]/ul/li[2]/span')\n",
    "\n",
    "driver.execute_script('arguments[0].click();', botao_mudar_pra_performance)\n",
    "\n",
    "lista_tabela_por_pagina = []\n",
    "\n",
    "elemento = driver.find_element('xpath', '//*[@id=\"finderTable\"]')\n",
    "\n",
    "\n",
    "for pagina in range(1, numero_paginas + 1):\n",
    "    \n",
    "    html_tabela = elemento.get_attribute('outerHTML')\n",
    "    \n",
    "    tabela = pd.read_html(str(html_tabela))[0]\n",
    "    \n",
    "    lista_tabela_por_pagina.append(tabela)\n",
    "    \n",
    "    botao_avancar_pagina = driver.find_element('xpath', '//*[@id=\"nextPage\"]')\n",
    "    \n",
    "    driver.execute_script('arguments[0].click();', botao_avancar_pagina)\n",
    "    \n",
    "\n",
    "tabela_rentabilidade_etfs = pd.concat(lista_tabela_por_pagina)\n",
    "\n",
    "driver.quit()"
   ]
  },
  {
   "cell_type": "code",
   "execution_count": 5,
   "id": "4759f044",
   "metadata": {},
   "outputs": [],
   "source": [
    "tabela_rentabilidade_etfs = tabela_rentabilidade_etfs.set_index('Ticker')\n",
    "\n",
    "tabela_cadastro_etfs = tabela_cadastro_etfs.set_index('Ticker')"
   ]
  },
  {
   "cell_type": "markdown",
   "id": "567e0f04",
   "metadata": {},
   "source": [
    "# Passo 2: Escolher quais períodos de rentabilidade iremos analisar."
   ]
  },
  {
   "cell_type": "code",
   "execution_count": 7,
   "id": "8959da34",
   "metadata": {},
   "outputs": [],
   "source": [
    "tabela_rentabilidade_etfs = tabela_rentabilidade_etfs[['1 Year', '3 Years', '5 Years']]"
   ]
  },
  {
   "cell_type": "markdown",
   "id": "8eb3e0fd",
   "metadata": {},
   "source": [
    "# Passo 3: Retirar os dados faltantes. Fundos que não possuem os períodos necessários, ficarão de fora."
   ]
  },
  {
   "cell_type": "code",
   "execution_count": 10,
   "id": "ba6a222c",
   "metadata": {},
   "outputs": [],
   "source": [
    "tabela_rentabilidade_etfs = tabela_rentabilidade_etfs.replace('--', pd.NA)\n",
    "\n",
    "tabela_rentabilidade_etfs = tabela_rentabilidade_etfs.dropna()"
   ]
  },
  {
   "cell_type": "markdown",
   "id": "32d0dde2",
   "metadata": {},
   "source": [
    "# Passo 4: Transformar as rentabilidades em números decimais"
   ]
  },
  {
   "cell_type": "code",
   "execution_count": 11,
   "id": "53e3cb6c",
   "metadata": {},
   "outputs": [],
   "source": [
    "for coluna in tabela_rentabilidade_etfs.columns:\n",
    "    tabela_rentabilidade_etfs[coluna] = tabela_rentabilidade_etfs[coluna].str.rstrip('%').astype(float)/100"
   ]
  },
  {
   "cell_type": "markdown",
   "id": "146eab1d",
   "metadata": {},
   "source": [
    "# Passo 5: Juntar as tabelas"
   ]
  },
  {
   "cell_type": "code",
   "execution_count": 13,
   "id": "3c249bbf",
   "metadata": {},
   "outputs": [],
   "source": [
    "base_final = tabela_cadastro_etfs.join(tabela_rentabilidade_etfs, how = \"inner\")"
   ]
  },
  {
   "cell_type": "markdown",
   "id": "bb0baa90",
   "metadata": {},
   "source": [
    "# Passo 6: Filtrar os ETFs alavancados."
   ]
  },
  {
   "cell_type": "code",
   "execution_count": 15,
   "id": "c2ddab70",
   "metadata": {},
   "outputs": [],
   "source": [
    "base_final = base_final[~base_final['Segment'].str.contains(\"Leveraged\")]"
   ]
  },
  {
   "cell_type": "markdown",
   "id": "0b96113e",
   "metadata": {},
   "source": [
    "# Passo 7: Fazer os rankings de rentabilidade por período e soma-los."
   ]
  },
  {
   "cell_type": "code",
   "execution_count": 17,
   "id": "53bfa980",
   "metadata": {},
   "outputs": [],
   "source": [
    "base_final['rank_1_anos'] = base_final['1 Year'].rank(ascending = False)\n",
    "base_final['rank_3_anos'] = base_final['3 Years'].rank(ascending = False)\n",
    "base_final['rank_5_anos'] = base_final['5 Years'].rank(ascending = False)\n",
    "base_final['rank_final'] = (base_final['rank_1_anos'] + \n",
    "                                  base_final['rank_3_anos'] + \n",
    "                                  base_final['rank_5_anos'])"
   ]
  }
 ],
 "metadata": {
  "kernelspec": {
   "display_name": "Python 3 (ipykernel)",
   "language": "python",
   "name": "python3"
  },
  "language_info": {
   "codemirror_mode": {
    "name": "ipython",
    "version": 3
   },
   "file_extension": ".py",
   "mimetype": "text/x-python",
   "name": "python",
   "nbconvert_exporter": "python",
   "pygments_lexer": "ipython3",
   "version": "3.9.2"
  }
 },
 "nbformat": 4,
 "nbformat_minor": 5
}
